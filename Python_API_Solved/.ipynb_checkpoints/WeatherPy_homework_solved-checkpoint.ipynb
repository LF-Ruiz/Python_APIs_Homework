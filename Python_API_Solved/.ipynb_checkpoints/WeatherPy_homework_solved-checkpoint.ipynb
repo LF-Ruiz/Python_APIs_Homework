{
 "cells": [
  {
   "cell_type": "markdown",
   "metadata": {},
   "source": [
    "# WeatherPy\n",
    "----\n"
   ]
  },
  {
   "cell_type": "code",
   "execution_count": 13,
   "metadata": {},
   "outputs": [],
   "source": [
    "# Dependencies and Setup\n",
    "import matplotlib.pyplot as plt\n",
    "import pandas as pd\n",
    "import numpy as np\n",
    "import requests\n",
    "import time\n",
    "from scipy.stats import linregress\n",
    "\n",
    "# Incorporated citipy to determine city based on latitude and longitude\n",
    "#from citipy import citipy\n",
    "#import citipy\n",
    "\n",
    "# Output File (CSV)\n",
    "output_data_file = \"output_data/cities.csv\"\n",
    "\n",
    "# Range of latitudes and longitudes\n",
    "lat_range = (-90, 90)\n",
    "lng_range = (-180, 180)"
   ]
  },
  {
   "cell_type": "code",
   "execution_count": 14,
   "metadata": {},
   "outputs": [],
   "source": [
    "# Import API key\n",
    "from api_keys import weather_api_key"
   ]
  },
  {
   "cell_type": "code",
   "execution_count": 15,
   "metadata": {},
   "outputs": [
    {
     "data": {
      "text/plain": [
       "'763f6bd990dc39a4f3303dd89b705ec1'"
      ]
     },
     "execution_count": 15,
     "metadata": {},
     "output_type": "execute_result"
    }
   ],
   "source": [
    "weather_api_key"
   ]
  },
  {
   "cell_type": "markdown",
   "metadata": {},
   "source": [
    "# Generate Cities List"
   ]
  },
  {
   "cell_type": "code",
   "execution_count": 12,
   "metadata": {},
   "outputs": [
    {
     "ename": "NameError",
     "evalue": "name 'citipy' is not defined",
     "output_type": "error",
     "traceback": [
      "\u001b[1;31m---------------------------------------------------------------------------\u001b[0m",
      "\u001b[1;31mNameError\u001b[0m                                 Traceback (most recent call last)",
      "\u001b[1;32m<ipython-input-12-954ac8053ff0>\u001b[0m in \u001b[0;36m<module>\u001b[1;34m\u001b[0m\n\u001b[0;32m     10\u001b[0m \u001b[1;31m# Identify nearest city for each lat, lng combination\u001b[0m\u001b[1;33m\u001b[0m\u001b[1;33m\u001b[0m\u001b[1;33m\u001b[0m\u001b[0m\n\u001b[0;32m     11\u001b[0m \u001b[1;32mfor\u001b[0m \u001b[0mlat_lng\u001b[0m \u001b[1;32min\u001b[0m \u001b[0mlat_lngs\u001b[0m\u001b[1;33m:\u001b[0m\u001b[1;33m\u001b[0m\u001b[1;33m\u001b[0m\u001b[0m\n\u001b[1;32m---> 12\u001b[1;33m     \u001b[0mcity\u001b[0m \u001b[1;33m=\u001b[0m \u001b[0mcitipy\u001b[0m\u001b[1;33m.\u001b[0m\u001b[0mnearest_city\u001b[0m\u001b[1;33m(\u001b[0m\u001b[0mlat_lng\u001b[0m\u001b[1;33m[\u001b[0m\u001b[1;36m0\u001b[0m\u001b[1;33m]\u001b[0m\u001b[1;33m,\u001b[0m \u001b[0mlat_lng\u001b[0m\u001b[1;33m[\u001b[0m\u001b[1;36m1\u001b[0m\u001b[1;33m]\u001b[0m\u001b[1;33m)\u001b[0m\u001b[1;33m.\u001b[0m\u001b[0mcity_name\u001b[0m\u001b[1;33m\u001b[0m\u001b[1;33m\u001b[0m\u001b[0m\n\u001b[0m\u001b[0;32m     13\u001b[0m \u001b[1;33m\u001b[0m\u001b[0m\n\u001b[0;32m     14\u001b[0m     \u001b[1;31m# If the city is unique, then add it to a our cities list\u001b[0m\u001b[1;33m\u001b[0m\u001b[1;33m\u001b[0m\u001b[1;33m\u001b[0m\u001b[0m\n",
      "\u001b[1;31mNameError\u001b[0m: name 'citipy' is not defined"
     ]
    }
   ],
   "source": [
    "# List for holding lat_lngs and cities\n",
    "lat_lngs = []\n",
    "cities = []\n",
    "\n",
    "# Create a set of random lat and lng combinations\n",
    "lats = np.random.uniform(lat_range[0], lat_range[1], size=1500)\n",
    "lngs = np.random.uniform(lng_range[0], lng_range[1], size=1500)\n",
    "lat_lngs = zip(lats, lngs)\n",
    "\n",
    "# Identify nearest city for each lat, lng combination\n",
    "for lat_lng in lat_lngs:\n",
    "    city = citipy.nearest_city(lat_lng[0], lat_lng[1]).city_name\n",
    "    \n",
    "    # If the city is unique, then add it to a our cities list\n",
    "    if city not in cities:\n",
    "        cities.append(city)\n",
    "\n",
    "# Print the city count to confirm sufficient count\n",
    "len(cities)"
   ]
  },
  {
   "cell_type": "markdown",
   "metadata": {},
   "source": [
    "### Perform API Calls\n",
    "* Perform a weather check on each city using a series of successive API calls.\n",
    "* Include a print log of each city as it'sbeing processed (with the city number and city name).\n"
   ]
  },
  {
   "cell_type": "code",
   "execution_count": 9,
   "metadata": {},
   "outputs": [
    {
     "ename": "SyntaxError",
     "evalue": "invalid syntax (<ipython-input-9-c383e20d4b3e>, line 1)",
     "output_type": "error",
     "traceback": [
      "\u001b[1;36m  File \u001b[1;32m\"<ipython-input-9-c383e20d4b3e>\"\u001b[1;36m, line \u001b[1;32m1\u001b[0m\n\u001b[1;33m    api_key = 763f6bd990dc39a4f3303dd89b705ec1\u001b[0m\n\u001b[1;37m                 ^\u001b[0m\n\u001b[1;31mSyntaxError\u001b[0m\u001b[1;31m:\u001b[0m invalid syntax\n"
     ]
    }
   ],
   "source": [
    "#api_key = '763f6bd990dc39a4f3303dd89b705ec1'"
   ]
  },
  {
   "cell_type": "code",
   "execution_count": 10,
   "metadata": {},
   "outputs": [],
   "source": [
    "# Starting URL for Weather Map API Call\n",
    "url = \"http://api.openweathermap.org/data/2.5/weather?units=Imperial&APPID=\" + weather_api_key\n",
    "\n",
    "# List of city data\n",
    "city_data = []"
   ]
  },
  {
   "cell_type": "code",
   "execution_count": 11,
   "metadata": {},
   "outputs": [
    {
     "data": {
      "text/plain": [
       "'http://api.openweathermap.org/data/2.5/weather?units=Imperial&APPID=763f6bd990dc39a4f3303dd89b705ec1'"
      ]
     },
     "execution_count": 11,
     "metadata": {},
     "output_type": "execute_result"
    }
   ],
   "source": [
    "url"
   ]
  },
  {
   "cell_type": "code",
   "execution_count": null,
   "metadata": {},
   "outputs": [],
   "source": [
    "# Create empty lists\n",
    "city_name = []\n",
    "city_lats = []\n",
    "city_lngs = []\n",
    "city_temp = []\n",
    "city_maxtemps = []\n",
    "city_humidity = []\n",
    "city_cloudiness = []\n",
    "city_windspeed = []\n",
    "city_country = []\n",
    "date = []\n",
    "\n",
    "# Initialize count variables\n",
    "item = 1\n",
    "batch = 1\n",
    "\n",
    "# Print header\n",
    "print(\"Beginning Data Retrieval\")\n",
    "print(\"----------------------------\")\n",
    "\n",
    "# For loop go through the list of cities and perform a request for data on each city\n",
    "for city in cities:\n",
    "    \n",
    "    # Build query url with city name\n",
    "    query_url = url + city\n",
    "    \n",
    "    # Get answer as json\n",
    "    data = requests.get(query_url).json()\n",
    "    \n",
    "    # Retrieve required data into lists \n",
    "    try:\n",
    "        print(f\"Processing Record {item} of Set {batch} | {city}\")  \n",
    "        city_name.append(data[\"name\"])\n",
    "        city_country.append(data[\"sys\"][\"country\"])\n",
    "        city_lats.append(data[\"coord\"][\"lat\"])\n",
    "        city_lngs.append(data[\"coord\"][\"lon\"])    \n",
    "        city_temp.append(data[\"main\"][\"temp\"])\n",
    "        city_maxtemps.append(data[\"main\"][\"temp_max\"])\n",
    "        city_humidity.append(data[\"main\"][\"humidity\"])\n",
    "        city_cloudiness.append(data[\"clouds\"][\"all\"])\n",
    "        city_windspeed.append(data[\"wind\"][\"speed\"])\n",
    "        date.append(data[\"dt\"])\n",
    "        \n",
    "        # Increase item count by 1\n",
    "        item += 1\n",
    "        \n",
    "        # If statement to limit API calls to 50 using time.sleep (openweathermap API limits calls to 60/minute) ---\n",
    "        if item > 50:\n",
    "            # Start a new set of items\n",
    "            batch += 1\n",
    "            # Reset item count to 1 for next set\n",
    "            item = 1\n",
    "            \n",
    "            # Delay the execution to stay within the limits of the API query ---\n",
    "            time.sleep(1)\n",
    "    # Using exception handling\n",
    "    except:\n",
    "        print(f\"City '{city}' not found. Skipping...\")\n",
    "\n",
    "# Print completion\n",
    "print(\"----------------------------\")\n",
    "print(\"Data Retrieval Complete\")\n",
    "print(\"----------------------------\")"
   ]
  },
  {
   "cell_type": "markdown",
   "metadata": {},
   "source": [
    "### Convert Raw Data to DataFrame\n",
    "* Export the city data into a .csv.\n",
    "* Display the DataFrame"
   ]
  },
  {
   "cell_type": "code",
   "execution_count": null,
   "metadata": {},
   "outputs": [],
   "source": [
    "# Create a dataframe\n",
    "cities_df = pd.DataFrame({\"City\": city_name,\n",
    "                                \"Country\": city_country,\n",
    "                                \"Date\": date,\n",
    "                                \"Lat\": city_lats,\n",
    "                                \"Lng\": city_lngs,\n",
    "                                \"Max Temp (F)\": city_maxtemps,\n",
    "                                \"Humidity (%)\": city_humidity,\n",
    "                                \"Cloudiness (%)\": city_cloudiness,\n",
    "                                \"Wind Speed (mph)\": city_windspeed,\n",
    "                                })\n",
    "\n",
    "# pd.to_datetime\n",
    "cities_df[\"Date\"] = pd.to_datetime(cities_temps_df[\"Date\"], unit = \"s\")\n",
    "\n",
    "# Save the dataframe to .csv file\n",
    "#cities_temps_df.to_csv(\"../output_data/cities.csv\", index=True, index_label=\"City ID\", header=True)\n",
    "\n",
    "# --- display the dataframe ---\n",
    "cities_df"
   ]
  },
  {
   "cell_type": "markdown",
   "metadata": {},
   "source": [
    "## Inspect the data and remove the cities where the humidity > 100%.\n",
    "----\n",
    "Skip this step if there are no cities that have humidity > 100%. "
   ]
  },
  {
   "cell_type": "code",
   "execution_count": null,
   "metadata": {},
   "outputs": [],
   "source": []
  },
  {
   "cell_type": "code",
   "execution_count": null,
   "metadata": {},
   "outputs": [],
   "source": [
    "#  Get the indices of cities that have humidity over 100%."
   ]
  },
  {
   "cell_type": "code",
   "execution_count": null,
   "metadata": {},
   "outputs": [],
   "source": []
  },
  {
   "cell_type": "code",
   "execution_count": null,
   "metadata": {},
   "outputs": [],
   "source": [
    "# Make a new DataFrame equal to the city data to drop all humidity outliers by index.\n",
    "# Passing \"inplace=False\" will make a copy of the city_data DataFrame, which we call \"clean_city_data\"."
   ]
  },
  {
   "cell_type": "code",
   "execution_count": null,
   "metadata": {},
   "outputs": [],
   "source": []
  },
  {
   "cell_type": "markdown",
   "metadata": {},
   "source": [
    "## Plotting the Data\n",
    "* Use proper labeling of the plots using plot titles (including date of analysis) and axes labels.\n",
    "* Save the plotted figures as .pngs."
   ]
  },
  {
   "cell_type": "markdown",
   "metadata": {},
   "source": [
    "## Latitude vs. Temperature Plot"
   ]
  },
  {
   "cell_type": "code",
   "execution_count": null,
   "metadata": {},
   "outputs": [],
   "source": [
    "# Scatter plot lat vs temp\n",
    "\n",
    "plt.scatter(latitudes, temperatures, marker=\"o\", facecolors=\"blue\", edgecolors=\"black\")\n",
    "\n",
    "# Titles\n",
    "plt.title(\"City Latitude vs. Max Temperature (12/14/20)\", fontsize=14)\n",
    "plt.ylabel(\"Max Temperature (F)\", fontsize=12)\n",
    "plt.xlabel(\"Latitude\", fontsize=12)\n",
    "plt.grid()\n",
    "\n",
    "# Display\n",
    "#plt.savefig(\"../Images/latitude-vs-temp.png\")\n",
    "plt.show()"
   ]
  },
  {
   "cell_type": "markdown",
   "metadata": {},
   "source": [
    "## Latitude vs. Humidity Plot"
   ]
  },
  {
   "cell_type": "code",
   "execution_count": null,
   "metadata": {},
   "outputs": [],
   "source": [
    "# Scatter plot latitude vs humidity\n",
    "plt.scatter(latitudes, humidity, marker=\"o\", facecolors=\"blue\", edgecolors=\"black\")\n",
    "\n",
    "# Titles\n",
    "plt.title(\"City Latitude vs. Humidity (12/14/20)\", fontsize=14)\n",
    "plt.ylabel(\"Humidity (%)\", fontsize=12)\n",
    "plt.xlabel(\"Latitude\", fontsize=12)\n",
    "plt.grid()\n",
    "\n",
    "#Display\n",
    "#plt.savefig(\"../Images/latitude-vs-humidity.png\")\n",
    "plt.show()"
   ]
  },
  {
   "cell_type": "markdown",
   "metadata": {},
   "source": [
    "## Latitude vs. Cloudiness Plot"
   ]
  },
  {
   "cell_type": "code",
   "execution_count": null,
   "metadata": {},
   "outputs": [],
   "source": [
    "# Scatter plot lat vs cloudiness ---\n",
    "plt.scatter(latitudes, cloudiness, marker=\"o\", facecolors=\"blue\", edgecolors=\"black\")\n",
    "\n",
    "# Titles\n",
    "plt.title(\"City Latitude vs. Cloudiness\", fontsize=14)\n",
    "plt.ylabel(\"Cloudiness (%)\", fontsize=12)\n",
    "plt.xlabel(\"Latitude\", fontsize=12)\n",
    "plt.grid()\n",
    "\n",
    "# Display\n",
    "#plt.savefig(\"../Images/latitude-vs-cloudiness.png\")\n",
    "plt.show()"
   ]
  },
  {
   "cell_type": "markdown",
   "metadata": {},
   "source": [
    "## Latitude vs. Wind Speed Plot"
   ]
  },
  {
   "cell_type": "code",
   "execution_count": null,
   "metadata": {},
   "outputs": [],
   "source": [
    "# Scatter plot lat vs wind speed ---\n",
    "plt.scatter(latitudes, windspeed, marker=\"o\", facecolors=\"blue\", edgecolors=\"black\")\n",
    "\n",
    "# Titles\n",
    "plt.title(\"City Latitude vs. Windspeed\", fontsize=14)\n",
    "plt.ylabel(\"Windspeed (mph)\", fontsize=12)\n",
    "plt.xlabel(\"Latitude\", fontsize=12)\n",
    "plt.grid()\n",
    "\n",
    "# Display\n",
    "#plt.savefig(\"../Images/latitude-vs-windspeed.png\")\n",
    "plt.show()"
   ]
  },
  {
   "cell_type": "markdown",
   "metadata": {},
   "source": [
    "## Linear Regression"
   ]
  },
  {
   "cell_type": "code",
   "execution_count": null,
   "metadata": {},
   "outputs": [],
   "source": [
    "# Function Linear Regression\n",
    "\n",
    "\n",
    "def plot_linear_regression(x, y, ax=None, **kwargs):\n",
    "    \n",
    "    # Axes\n",
    "    ax = ax\n",
    "    \n",
    "    # Get linear regression values and store in variables\n",
    "    slope, intercept, rvalue, pvalue, stderror = linregress(x,y)\n",
    "    print(f\"Linear Regression Completed...\")    \n",
    "    print(f\"The R Squared is: {rvalue**2}\")\n",
    "\n",
    "    \n",
    "    regress_values = slope * x + intercept\n",
    "    \n",
    "    # Line equation \n",
    "    line_eq = \"y = \" + str(round(slope,2)) + \"x + \" + str(round(intercept,2))\n",
    "                                                          \n",
    "    # Plot\n",
    "    ax.plot(x, regress_values, color=\"firebrick\")\n",
    "    \n",
    "    # Return the plot and line equation created\n",
    "    return ax, line_eq"
   ]
  },
  {
   "cell_type": "markdown",
   "metadata": {},
   "source": [
    "####  Northern Hemisphere - Max Temp vs. Latitude Linear Regression"
   ]
  },
  {
   "cell_type": "code",
   "execution_count": null,
   "metadata": {},
   "outputs": [],
   "source": []
  },
  {
   "cell_type": "markdown",
   "metadata": {},
   "source": [
    "####  Southern Hemisphere - Max Temp vs. Latitude Linear Regression"
   ]
  },
  {
   "cell_type": "code",
   "execution_count": null,
   "metadata": {},
   "outputs": [],
   "source": []
  },
  {
   "cell_type": "markdown",
   "metadata": {},
   "source": [
    "####  Northern Hemisphere - Humidity (%) vs. Latitude Linear Regression"
   ]
  },
  {
   "cell_type": "code",
   "execution_count": null,
   "metadata": {},
   "outputs": [],
   "source": []
  },
  {
   "cell_type": "markdown",
   "metadata": {},
   "source": [
    "####  Southern Hemisphere - Humidity (%) vs. Latitude Linear Regression"
   ]
  },
  {
   "cell_type": "code",
   "execution_count": null,
   "metadata": {},
   "outputs": [],
   "source": []
  },
  {
   "cell_type": "markdown",
   "metadata": {},
   "source": [
    "####  Northern Hemisphere - Cloudiness (%) vs. Latitude Linear Regression"
   ]
  },
  {
   "cell_type": "code",
   "execution_count": null,
   "metadata": {},
   "outputs": [],
   "source": []
  },
  {
   "cell_type": "markdown",
   "metadata": {},
   "source": [
    "####  Southern Hemisphere - Cloudiness (%) vs. Latitude Linear Regression"
   ]
  },
  {
   "cell_type": "code",
   "execution_count": null,
   "metadata": {},
   "outputs": [],
   "source": []
  },
  {
   "cell_type": "markdown",
   "metadata": {},
   "source": [
    "####  Northern Hemisphere - Wind Speed (mph) vs. Latitude Linear Regression"
   ]
  },
  {
   "cell_type": "code",
   "execution_count": null,
   "metadata": {},
   "outputs": [],
   "source": []
  },
  {
   "cell_type": "markdown",
   "metadata": {},
   "source": [
    "####  Southern Hemisphere - Wind Speed (mph) vs. Latitude Linear Regression"
   ]
  },
  {
   "cell_type": "code",
   "execution_count": null,
   "metadata": {},
   "outputs": [],
   "source": []
  },
  {
   "cell_type": "code",
   "execution_count": null,
   "metadata": {},
   "outputs": [],
   "source": []
  },
  {
   "cell_type": "code",
   "execution_count": null,
   "metadata": {},
   "outputs": [],
   "source": []
  }
 ],
 "metadata": {
  "kernelspec": {
   "display_name": "Python 3",
   "language": "python",
   "name": "python3"
  },
  "language_info": {
   "codemirror_mode": {
    "name": "ipython",
    "version": 3
   },
   "file_extension": ".py",
   "mimetype": "text/x-python",
   "name": "python",
   "nbconvert_exporter": "python",
   "pygments_lexer": "ipython3",
   "version": "3.8.3"
  }
 },
 "nbformat": 4,
 "nbformat_minor": 4
}
